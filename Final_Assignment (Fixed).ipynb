{
  "metadata": {
    "kernelspec": {
      "name": "python",
      "display_name": "Pyolite",
      "language": "python"
    },
    "language_info": {
      "codemirror_mode": {
        "name": "python",
        "version": 3
      },
      "file_extension": ".py",
      "mimetype": "text/x-python",
      "name": "python",
      "nbconvert_exporter": "python",
      "pygments_lexer": "ipython3",
      "version": "3.8"
    }
  },
  "nbformat_minor": 4,
  "nbformat": 4,
  "cells": [
    {
      "cell_type": "markdown",
      "source": "<center>\n    <img src=\"https://cf-courses-data.s3.us.cloud-object-storage.appdomain.cloud/IBMDeveloperSkillsNetwork-DS0105EN-SkillsNetwork/labs/Module2/images/SN_web_lightmode.png\" width=\"300\" alt=\"cognitiveclass.ai logo\">\n</center>\n",
      "metadata": {}
    },
    {
      "cell_type": "markdown",
      "source": "#### Add your code below following the instructions given in the course\n",
      "metadata": {}
    },
    {
      "cell_type": "markdown",
      "source": " # My Jupyter Notebook on IBM Watson Studio",
      "metadata": {}
    },
    {
      "cell_type": "markdown",
      "source": "**Ishaan Sharma**\nScreenwriter Director",
      "metadata": {}
    },
    {
      "cell_type": "markdown",
      "source": "*As a Psychology major I have to take statistics, I took it in high school before but when I took it in college I enjoyed it a lot more. This being the case I decided to learn more about data science so I can stay in touch with the tech industry since most of my family is in it.*",
      "metadata": {}
    },
    {
      "cell_type": "markdown",
      "source": "### Combine two words together",
      "metadata": {}
    },
    {
      "cell_type": "code",
      "source": "print (\"Hello\" + \" World\")",
      "metadata": {
        "trusted": true
      },
      "execution_count": 6,
      "outputs": [
        {
          "name": "stdout",
          "text": "Hello World\n",
          "output_type": "stream"
        }
      ]
    },
    {
      "cell_type": "markdown",
      "source": "## Image\n![Python Logo](https://www.boredpanda.com/blog/wp-content/uploads/2021/11/6188f4805c24d_kcm73mko3m631__700.jpg)\n\n## Bulleted List (Groceries)\n\n- Beans\n- Rice\n- Oranges\n\n## Code Block\nx = 1\ny = 2\nprint(x + y)",
      "metadata": {}
    }
  ]
}